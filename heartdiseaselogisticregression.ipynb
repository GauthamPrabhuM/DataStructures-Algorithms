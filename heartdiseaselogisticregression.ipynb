{
 "cells": [
  {
   "cell_type": "code",
   "execution_count": 78,
   "metadata": {},
   "outputs": [],
   "source": [
    "import pandas as pd\n",
    "import matplotlib.pyplot as plt\n",
    "import seaborn as sns"
   ]
  },
  {
   "cell_type": "code",
   "execution_count": null,
   "metadata": {},
   "outputs": [],
   "source": []
  },
  {
   "cell_type": "code",
   "execution_count": 79,
   "metadata": {},
   "outputs": [],
   "source": [
    "heart=pd.read_csv('heartdisease.csv')"
   ]
  },
  {
   "cell_type": "code",
   "execution_count": 80,
   "metadata": {},
   "outputs": [
    {
     "data": {
      "text/html": [
       "<div>\n",
       "<style scoped>\n",
       "    .dataframe tbody tr th:only-of-type {\n",
       "        vertical-align: middle;\n",
       "    }\n",
       "\n",
       "    .dataframe tbody tr th {\n",
       "        vertical-align: top;\n",
       "    }\n",
       "\n",
       "    .dataframe thead th {\n",
       "        text-align: right;\n",
       "    }\n",
       "</style>\n",
       "<table border=\"1\" class=\"dataframe\">\n",
       "  <thead>\n",
       "    <tr style=\"text-align: right;\">\n",
       "      <th></th>\n",
       "      <th>male</th>\n",
       "      <th>age</th>\n",
       "      <th>education</th>\n",
       "      <th>currentSmoker</th>\n",
       "      <th>cigsPerDay</th>\n",
       "      <th>BPMeds</th>\n",
       "      <th>prevalentStroke</th>\n",
       "      <th>prevalentHyp</th>\n",
       "      <th>diabetes</th>\n",
       "      <th>totChol</th>\n",
       "      <th>sysBP</th>\n",
       "      <th>diaBP</th>\n",
       "      <th>BMI</th>\n",
       "      <th>heartRate</th>\n",
       "      <th>glucose</th>\n",
       "      <th>TenYearCHD</th>\n",
       "    </tr>\n",
       "  </thead>\n",
       "  <tbody>\n",
       "    <tr>\n",
       "      <th>0</th>\n",
       "      <td>1</td>\n",
       "      <td>39</td>\n",
       "      <td>4.0</td>\n",
       "      <td>0</td>\n",
       "      <td>0.0</td>\n",
       "      <td>0.0</td>\n",
       "      <td>0</td>\n",
       "      <td>0</td>\n",
       "      <td>0</td>\n",
       "      <td>195.0</td>\n",
       "      <td>106.0</td>\n",
       "      <td>70.0</td>\n",
       "      <td>26.97</td>\n",
       "      <td>80.0</td>\n",
       "      <td>77.0</td>\n",
       "      <td>0</td>\n",
       "    </tr>\n",
       "    <tr>\n",
       "      <th>1</th>\n",
       "      <td>0</td>\n",
       "      <td>46</td>\n",
       "      <td>2.0</td>\n",
       "      <td>0</td>\n",
       "      <td>0.0</td>\n",
       "      <td>0.0</td>\n",
       "      <td>0</td>\n",
       "      <td>0</td>\n",
       "      <td>0</td>\n",
       "      <td>250.0</td>\n",
       "      <td>121.0</td>\n",
       "      <td>81.0</td>\n",
       "      <td>28.73</td>\n",
       "      <td>95.0</td>\n",
       "      <td>76.0</td>\n",
       "      <td>0</td>\n",
       "    </tr>\n",
       "    <tr>\n",
       "      <th>2</th>\n",
       "      <td>1</td>\n",
       "      <td>48</td>\n",
       "      <td>1.0</td>\n",
       "      <td>1</td>\n",
       "      <td>20.0</td>\n",
       "      <td>0.0</td>\n",
       "      <td>0</td>\n",
       "      <td>0</td>\n",
       "      <td>0</td>\n",
       "      <td>245.0</td>\n",
       "      <td>127.5</td>\n",
       "      <td>80.0</td>\n",
       "      <td>25.34</td>\n",
       "      <td>75.0</td>\n",
       "      <td>70.0</td>\n",
       "      <td>0</td>\n",
       "    </tr>\n",
       "    <tr>\n",
       "      <th>3</th>\n",
       "      <td>0</td>\n",
       "      <td>61</td>\n",
       "      <td>3.0</td>\n",
       "      <td>1</td>\n",
       "      <td>30.0</td>\n",
       "      <td>0.0</td>\n",
       "      <td>0</td>\n",
       "      <td>1</td>\n",
       "      <td>0</td>\n",
       "      <td>225.0</td>\n",
       "      <td>150.0</td>\n",
       "      <td>95.0</td>\n",
       "      <td>28.58</td>\n",
       "      <td>65.0</td>\n",
       "      <td>103.0</td>\n",
       "      <td>1</td>\n",
       "    </tr>\n",
       "    <tr>\n",
       "      <th>4</th>\n",
       "      <td>0</td>\n",
       "      <td>46</td>\n",
       "      <td>3.0</td>\n",
       "      <td>1</td>\n",
       "      <td>23.0</td>\n",
       "      <td>0.0</td>\n",
       "      <td>0</td>\n",
       "      <td>0</td>\n",
       "      <td>0</td>\n",
       "      <td>285.0</td>\n",
       "      <td>130.0</td>\n",
       "      <td>84.0</td>\n",
       "      <td>23.10</td>\n",
       "      <td>85.0</td>\n",
       "      <td>85.0</td>\n",
       "      <td>0</td>\n",
       "    </tr>\n",
       "  </tbody>\n",
       "</table>\n",
       "</div>"
      ],
      "text/plain": [
       "   male  age  education  currentSmoker  cigsPerDay  BPMeds  prevalentStroke  \\\n",
       "0     1   39        4.0              0         0.0     0.0                0   \n",
       "1     0   46        2.0              0         0.0     0.0                0   \n",
       "2     1   48        1.0              1        20.0     0.0                0   \n",
       "3     0   61        3.0              1        30.0     0.0                0   \n",
       "4     0   46        3.0              1        23.0     0.0                0   \n",
       "\n",
       "   prevalentHyp  diabetes  totChol  sysBP  diaBP    BMI  heartRate  glucose  \\\n",
       "0             0         0    195.0  106.0   70.0  26.97       80.0     77.0   \n",
       "1             0         0    250.0  121.0   81.0  28.73       95.0     76.0   \n",
       "2             0         0    245.0  127.5   80.0  25.34       75.0     70.0   \n",
       "3             1         0    225.0  150.0   95.0  28.58       65.0    103.0   \n",
       "4             0         0    285.0  130.0   84.0  23.10       85.0     85.0   \n",
       "\n",
       "   TenYearCHD  \n",
       "0           0  \n",
       "1           0  \n",
       "2           0  \n",
       "3           1  \n",
       "4           0  "
      ]
     },
     "execution_count": 80,
     "metadata": {},
     "output_type": "execute_result"
    }
   ],
   "source": [
    "heart.head()"
   ]
  },
  {
   "cell_type": "code",
   "execution_count": 81,
   "metadata": {},
   "outputs": [
    {
     "name": "stdout",
     "output_type": "stream",
     "text": [
      "<class 'pandas.core.frame.DataFrame'>\n",
      "RangeIndex: 4238 entries, 0 to 4237\n",
      "Data columns (total 16 columns):\n",
      " #   Column           Non-Null Count  Dtype  \n",
      "---  ------           --------------  -----  \n",
      " 0   male             4238 non-null   int64  \n",
      " 1   age              4238 non-null   int64  \n",
      " 2   education        4133 non-null   float64\n",
      " 3   currentSmoker    4238 non-null   int64  \n",
      " 4   cigsPerDay       4209 non-null   float64\n",
      " 5   BPMeds           4185 non-null   float64\n",
      " 6   prevalentStroke  4238 non-null   int64  \n",
      " 7   prevalentHyp     4238 non-null   int64  \n",
      " 8   diabetes         4238 non-null   int64  \n",
      " 9   totChol          4188 non-null   float64\n",
      " 10  sysBP            4238 non-null   float64\n",
      " 11  diaBP            4238 non-null   float64\n",
      " 12  BMI              4219 non-null   float64\n",
      " 13  heartRate        4237 non-null   float64\n",
      " 14  glucose          3850 non-null   float64\n",
      " 15  TenYearCHD       4238 non-null   int64  \n",
      "dtypes: float64(9), int64(7)\n",
      "memory usage: 529.9 KB\n"
     ]
    }
   ],
   "source": [
    "heart.info()"
   ]
  },
  {
   "cell_type": "code",
   "execution_count": null,
   "metadata": {},
   "outputs": [],
   "source": []
  },
  {
   "cell_type": "code",
   "execution_count": 83,
   "metadata": {},
   "outputs": [
    {
     "data": {
      "text/plain": [
       "male                 0\n",
       "age                  0\n",
       "education          105\n",
       "currentSmoker        0\n",
       "cigsPerDay          29\n",
       "BPMeds              53\n",
       "prevalentStroke      0\n",
       "prevalentHyp         0\n",
       "diabetes             0\n",
       "totChol             50\n",
       "sysBP                0\n",
       "diaBP                0\n",
       "BMI                 19\n",
       "heartRate            1\n",
       "glucose            388\n",
       "TenYearCHD           0\n",
       "dtype: int64"
      ]
     },
     "execution_count": 83,
     "metadata": {},
     "output_type": "execute_result"
    }
   ],
   "source": [
    "heart.isnull().sum()"
   ]
  },
  {
   "cell_type": "code",
   "execution_count": 84,
   "metadata": {},
   "outputs": [],
   "source": [
    "heart[\"cigsPerDay\"].fillna(heart.groupby(\"currentSmoker\")[\"cigsPerDay\"].transform(\"mean\"),inplace=True)"
   ]
  },
  {
   "cell_type": "code",
   "execution_count": 85,
   "metadata": {},
   "outputs": [],
   "source": [
    "heart[\"BPMeds\"].fillna(heart.groupby(\"prevalentHyp\")[\"BPMeds\"].transform(\"mean\"),inplace=True)"
   ]
  },
  {
   "cell_type": "code",
   "execution_count": 86,
   "metadata": {},
   "outputs": [],
   "source": [
    "heart[\"totChol\"].fillna(heart.groupby(\"prevalentStroke\")[\"totChol\"].transform(\"mean\"), inplace=True)"
   ]
  },
  {
   "cell_type": "code",
   "execution_count": 87,
   "metadata": {},
   "outputs": [],
   "source": [
    "heart[\"BMI\"].fillna(heart.groupby(\"age\")[\"BMI\"].transform(\"mean\"), inplace=True)"
   ]
  },
  {
   "cell_type": "code",
   "execution_count": 88,
   "metadata": {},
   "outputs": [],
   "source": [
    "heart[\"heartRate\"].fillna(heart.groupby(\"sysBP\")[\"heartRate\"].transform(\"mean\"), inplace=True)"
   ]
  },
  {
   "cell_type": "code",
   "execution_count": 89,
   "metadata": {},
   "outputs": [],
   "source": [
    "heart[\"glucose\"].fillna(heart.groupby(\"diabetes\")[\"glucose\"].transform(\"mean\"), inplace=True)"
   ]
  },
  {
   "cell_type": "code",
   "execution_count": 90,
   "metadata": {},
   "outputs": [],
   "source": [
    "heart[\"education\"].fillna(heart.groupby(\"age\")[\"education\"].transform(\"mean\"), inplace=True)"
   ]
  },
  {
   "cell_type": "code",
   "execution_count": 91,
   "metadata": {},
   "outputs": [
    {
     "data": {
      "text/plain": [
       "male               0\n",
       "age                0\n",
       "education          0\n",
       "currentSmoker      0\n",
       "cigsPerDay         0\n",
       "BPMeds             0\n",
       "prevalentStroke    0\n",
       "prevalentHyp       0\n",
       "diabetes           0\n",
       "totChol            0\n",
       "sysBP              0\n",
       "diaBP              0\n",
       "BMI                0\n",
       "heartRate          0\n",
       "glucose            0\n",
       "TenYearCHD         0\n",
       "dtype: int64"
      ]
     },
     "execution_count": 91,
     "metadata": {},
     "output_type": "execute_result"
    }
   ],
   "source": [
    "heart.isnull().sum()"
   ]
  },
  {
   "cell_type": "code",
   "execution_count": 92,
   "metadata": {},
   "outputs": [
    {
     "data": {
      "text/html": [
       "<div>\n",
       "<style scoped>\n",
       "    .dataframe tbody tr th:only-of-type {\n",
       "        vertical-align: middle;\n",
       "    }\n",
       "\n",
       "    .dataframe tbody tr th {\n",
       "        vertical-align: top;\n",
       "    }\n",
       "\n",
       "    .dataframe thead th {\n",
       "        text-align: right;\n",
       "    }\n",
       "</style>\n",
       "<table border=\"1\" class=\"dataframe\">\n",
       "  <thead>\n",
       "    <tr style=\"text-align: right;\">\n",
       "      <th></th>\n",
       "      <th>male</th>\n",
       "      <th>age</th>\n",
       "      <th>education</th>\n",
       "      <th>currentSmoker</th>\n",
       "      <th>cigsPerDay</th>\n",
       "      <th>BPMeds</th>\n",
       "      <th>prevalentStroke</th>\n",
       "      <th>prevalentHyp</th>\n",
       "      <th>diabetes</th>\n",
       "      <th>totChol</th>\n",
       "      <th>sysBP</th>\n",
       "      <th>diaBP</th>\n",
       "      <th>BMI</th>\n",
       "      <th>heartRate</th>\n",
       "      <th>glucose</th>\n",
       "      <th>TenYearCHD</th>\n",
       "    </tr>\n",
       "  </thead>\n",
       "  <tbody>\n",
       "    <tr>\n",
       "      <th>0</th>\n",
       "      <td>1</td>\n",
       "      <td>39</td>\n",
       "      <td>4.0</td>\n",
       "      <td>0</td>\n",
       "      <td>0.0</td>\n",
       "      <td>0.0</td>\n",
       "      <td>0</td>\n",
       "      <td>0</td>\n",
       "      <td>0</td>\n",
       "      <td>195.0</td>\n",
       "      <td>106.0</td>\n",
       "      <td>70.0</td>\n",
       "      <td>26.97</td>\n",
       "      <td>80.0</td>\n",
       "      <td>77.0</td>\n",
       "      <td>0</td>\n",
       "    </tr>\n",
       "    <tr>\n",
       "      <th>1</th>\n",
       "      <td>0</td>\n",
       "      <td>46</td>\n",
       "      <td>2.0</td>\n",
       "      <td>0</td>\n",
       "      <td>0.0</td>\n",
       "      <td>0.0</td>\n",
       "      <td>0</td>\n",
       "      <td>0</td>\n",
       "      <td>0</td>\n",
       "      <td>250.0</td>\n",
       "      <td>121.0</td>\n",
       "      <td>81.0</td>\n",
       "      <td>28.73</td>\n",
       "      <td>95.0</td>\n",
       "      <td>76.0</td>\n",
       "      <td>0</td>\n",
       "    </tr>\n",
       "    <tr>\n",
       "      <th>2</th>\n",
       "      <td>1</td>\n",
       "      <td>48</td>\n",
       "      <td>1.0</td>\n",
       "      <td>1</td>\n",
       "      <td>20.0</td>\n",
       "      <td>0.0</td>\n",
       "      <td>0</td>\n",
       "      <td>0</td>\n",
       "      <td>0</td>\n",
       "      <td>245.0</td>\n",
       "      <td>127.5</td>\n",
       "      <td>80.0</td>\n",
       "      <td>25.34</td>\n",
       "      <td>75.0</td>\n",
       "      <td>70.0</td>\n",
       "      <td>0</td>\n",
       "    </tr>\n",
       "    <tr>\n",
       "      <th>3</th>\n",
       "      <td>0</td>\n",
       "      <td>61</td>\n",
       "      <td>3.0</td>\n",
       "      <td>1</td>\n",
       "      <td>30.0</td>\n",
       "      <td>0.0</td>\n",
       "      <td>0</td>\n",
       "      <td>1</td>\n",
       "      <td>0</td>\n",
       "      <td>225.0</td>\n",
       "      <td>150.0</td>\n",
       "      <td>95.0</td>\n",
       "      <td>28.58</td>\n",
       "      <td>65.0</td>\n",
       "      <td>103.0</td>\n",
       "      <td>1</td>\n",
       "    </tr>\n",
       "    <tr>\n",
       "      <th>4</th>\n",
       "      <td>0</td>\n",
       "      <td>46</td>\n",
       "      <td>3.0</td>\n",
       "      <td>1</td>\n",
       "      <td>23.0</td>\n",
       "      <td>0.0</td>\n",
       "      <td>0</td>\n",
       "      <td>0</td>\n",
       "      <td>0</td>\n",
       "      <td>285.0</td>\n",
       "      <td>130.0</td>\n",
       "      <td>84.0</td>\n",
       "      <td>23.10</td>\n",
       "      <td>85.0</td>\n",
       "      <td>85.0</td>\n",
       "      <td>0</td>\n",
       "    </tr>\n",
       "  </tbody>\n",
       "</table>\n",
       "</div>"
      ],
      "text/plain": [
       "   male  age  education  currentSmoker  cigsPerDay  BPMeds  prevalentStroke  \\\n",
       "0     1   39        4.0              0         0.0     0.0                0   \n",
       "1     0   46        2.0              0         0.0     0.0                0   \n",
       "2     1   48        1.0              1        20.0     0.0                0   \n",
       "3     0   61        3.0              1        30.0     0.0                0   \n",
       "4     0   46        3.0              1        23.0     0.0                0   \n",
       "\n",
       "   prevalentHyp  diabetes  totChol  sysBP  diaBP    BMI  heartRate  glucose  \\\n",
       "0             0         0    195.0  106.0   70.0  26.97       80.0     77.0   \n",
       "1             0         0    250.0  121.0   81.0  28.73       95.0     76.0   \n",
       "2             0         0    245.0  127.5   80.0  25.34       75.0     70.0   \n",
       "3             1         0    225.0  150.0   95.0  28.58       65.0    103.0   \n",
       "4             0         0    285.0  130.0   84.0  23.10       85.0     85.0   \n",
       "\n",
       "   TenYearCHD  \n",
       "0           0  \n",
       "1           0  \n",
       "2           0  \n",
       "3           1  \n",
       "4           0  "
      ]
     },
     "execution_count": 92,
     "metadata": {},
     "output_type": "execute_result"
    }
   ],
   "source": [
    "heart.head()"
   ]
  },
  {
   "cell_type": "code",
   "execution_count": 93,
   "metadata": {},
   "outputs": [
    {
     "data": {
      "text/plain": [
       "<AxesSubplot:>"
      ]
     },
     "execution_count": 93,
     "metadata": {},
     "output_type": "execute_result"
    },
    {
     "data": {
      "image/png": "[encoded data removed]",
      "text/plain": [
       "<Figure size 432x288 with 2 Axes>"
      ]
     },
     "metadata": {},
     "output_type": "display_data"
    }
   ],
   "source": [
    "sns.heatmap(heart.corr())"
   ]
  },
  {
   "cell_type": "code",
   "execution_count": 94,
   "metadata": {},
   "outputs": [
    {
     "data": {
      "text/html": [
       "<div>\n",
       "<style scoped>\n",
       "    .dataframe tbody tr th:only-of-type {\n",
       "        vertical-align: middle;\n",
       "    }\n",
       "\n",
       "    .dataframe tbody tr th {\n",
       "        vertical-align: top;\n",
       "    }\n",
       "\n",
       "    .dataframe thead th {\n",
       "        text-align: right;\n",
       "    }\n",
       "</style>\n",
       "<table border=\"1\" class=\"dataframe\">\n",
       "  <thead>\n",
       "    <tr style=\"text-align: right;\">\n",
       "      <th></th>\n",
       "      <th>male</th>\n",
       "      <th>age</th>\n",
       "      <th>education</th>\n",
       "      <th>currentSmoker</th>\n",
       "      <th>cigsPerDay</th>\n",
       "      <th>BPMeds</th>\n",
       "      <th>prevalentStroke</th>\n",
       "      <th>prevalentHyp</th>\n",
       "      <th>diabetes</th>\n",
       "      <th>totChol</th>\n",
       "      <th>sysBP</th>\n",
       "      <th>diaBP</th>\n",
       "      <th>BMI</th>\n",
       "      <th>heartRate</th>\n",
       "      <th>glucose</th>\n",
       "      <th>TenYearCHD</th>\n",
       "    </tr>\n",
       "  </thead>\n",
       "  <tbody>\n",
       "    <tr>\n",
       "      <th>male</th>\n",
       "      <td>1.000000</td>\n",
       "      <td>-0.028979</td>\n",
       "      <td>0.017374</td>\n",
       "      <td>0.197596</td>\n",
       "      <td>0.316723</td>\n",
       "      <td>-0.052461</td>\n",
       "      <td>-0.004546</td>\n",
       "      <td>0.005313</td>\n",
       "      <td>0.015708</td>\n",
       "      <td>-0.069974</td>\n",
       "      <td>-0.035989</td>\n",
       "      <td>0.057933</td>\n",
       "      <td>0.081360</td>\n",
       "      <td>-0.116530</td>\n",
       "      <td>0.007070</td>\n",
       "      <td>0.088428</td>\n",
       "    </tr>\n",
       "    <tr>\n",
       "      <th>age</th>\n",
       "      <td>-0.028979</td>\n",
       "      <td>1.000000</td>\n",
       "      <td>-0.168023</td>\n",
       "      <td>-0.213748</td>\n",
       "      <td>-0.192113</td>\n",
       "      <td>0.123672</td>\n",
       "      <td>0.057655</td>\n",
       "      <td>0.307194</td>\n",
       "      <td>0.101258</td>\n",
       "      <td>0.260270</td>\n",
       "      <td>0.394302</td>\n",
       "      <td>0.206104</td>\n",
       "      <td>0.136934</td>\n",
       "      <td>-0.012716</td>\n",
       "      <td>0.115089</td>\n",
       "      <td>0.225256</td>\n",
       "    </tr>\n",
       "    <tr>\n",
       "      <th>education</th>\n",
       "      <td>0.017374</td>\n",
       "      <td>-0.168023</td>\n",
       "      <td>1.000000</td>\n",
       "      <td>0.019839</td>\n",
       "      <td>0.009392</td>\n",
       "      <td>-0.011080</td>\n",
       "      <td>-0.035054</td>\n",
       "      <td>-0.081672</td>\n",
       "      <td>-0.039031</td>\n",
       "      <td>-0.023047</td>\n",
       "      <td>-0.129428</td>\n",
       "      <td>-0.061637</td>\n",
       "      <td>-0.136731</td>\n",
       "      <td>-0.052922</td>\n",
       "      <td>-0.033518</td>\n",
       "      <td>-0.053798</td>\n",
       "    </tr>\n",
       "    <tr>\n",
       "      <th>currentSmoker</th>\n",
       "      <td>0.197596</td>\n",
       "      <td>-0.213748</td>\n",
       "      <td>0.019839</td>\n",
       "      <td>1.000000</td>\n",
       "      <td>0.770799</td>\n",
       "      <td>-0.049649</td>\n",
       "      <td>-0.032988</td>\n",
       "      <td>-0.103260</td>\n",
       "      <td>-0.044295</td>\n",
       "      <td>-0.046285</td>\n",
       "      <td>-0.130230</td>\n",
       "      <td>-0.107746</td>\n",
       "      <td>-0.167485</td>\n",
       "      <td>0.062409</td>\n",
       "      <td>-0.052519</td>\n",
       "      <td>0.019456</td>\n",
       "    </tr>\n",
       "    <tr>\n",
       "      <th>cigsPerDay</th>\n",
       "      <td>0.316723</td>\n",
       "      <td>-0.192113</td>\n",
       "      <td>0.009392</td>\n",
       "      <td>0.770799</td>\n",
       "      <td>1.000000</td>\n",
       "      <td>-0.047583</td>\n",
       "      <td>-0.033052</td>\n",
       "      <td>-0.066612</td>\n",
       "      <td>-0.037859</td>\n",
       "      <td>-0.025096</td>\n",
       "      <td>-0.088275</td>\n",
       "      <td>-0.055851</td>\n",
       "      <td>-0.092426</td>\n",
       "      <td>0.075610</td>\n",
       "      <td>-0.053701</td>\n",
       "      <td>0.056411</td>\n",
       "    </tr>\n",
       "    <tr>\n",
       "      <th>BPMeds</th>\n",
       "      <td>-0.052461</td>\n",
       "      <td>0.123672</td>\n",
       "      <td>-0.011080</td>\n",
       "      <td>-0.049649</td>\n",
       "      <td>-0.047583</td>\n",
       "      <td>1.000000</td>\n",
       "      <td>0.116096</td>\n",
       "      <td>0.263010</td>\n",
       "      <td>0.051746</td>\n",
       "      <td>0.080154</td>\n",
       "      <td>0.255078</td>\n",
       "      <td>0.194691</td>\n",
       "      <td>0.100357</td>\n",
       "      <td>0.015555</td>\n",
       "      <td>0.048369</td>\n",
       "      <td>0.087756</td>\n",
       "    </tr>\n",
       "    <tr>\n",
       "      <th>prevalentStroke</th>\n",
       "      <td>-0.004546</td>\n",
       "      <td>0.057655</td>\n",
       "      <td>-0.035054</td>\n",
       "      <td>-0.032988</td>\n",
       "      <td>-0.033052</td>\n",
       "      <td>0.116096</td>\n",
       "      <td>1.000000</td>\n",
       "      <td>0.074830</td>\n",
       "      <td>0.006949</td>\n",
       "      <td>0.000067</td>\n",
       "      <td>0.057009</td>\n",
       "      <td>0.045190</td>\n",
       "      <td>0.029927</td>\n",
       "      <td>-0.017680</td>\n",
       "      <td>0.018060</td>\n",
       "      <td>0.061810</td>\n",
       "    </tr>\n",
       "    <tr>\n",
       "      <th>prevalentHyp</th>\n",
       "      <td>0.005313</td>\n",
       "      <td>0.307194</td>\n",
       "      <td>-0.081672</td>\n",
       "      <td>-0.103260</td>\n",
       "      <td>-0.066612</td>\n",
       "      <td>0.263010</td>\n",
       "      <td>0.074830</td>\n",
       "      <td>1.000000</td>\n",
       "      <td>0.077808</td>\n",
       "      <td>0.163041</td>\n",
       "      <td>0.696755</td>\n",
       "      <td>0.615751</td>\n",
       "      <td>0.301521</td>\n",
       "      <td>0.147312</td>\n",
       "      <td>0.082281</td>\n",
       "      <td>0.177603</td>\n",
       "    </tr>\n",
       "    <tr>\n",
       "      <th>diabetes</th>\n",
       "      <td>0.015708</td>\n",
       "      <td>0.101258</td>\n",
       "      <td>-0.039031</td>\n",
       "      <td>-0.044295</td>\n",
       "      <td>-0.037859</td>\n",
       "      <td>0.051746</td>\n",
       "      <td>0.006949</td>\n",
       "      <td>0.077808</td>\n",
       "      <td>1.000000</td>\n",
       "      <td>0.040092</td>\n",
       "      <td>0.111283</td>\n",
       "      <td>0.050329</td>\n",
       "      <td>0.086346</td>\n",
       "      <td>0.048983</td>\n",
       "      <td>0.625062</td>\n",
       "      <td>0.097317</td>\n",
       "    </tr>\n",
       "    <tr>\n",
       "      <th>totChol</th>\n",
       "      <td>-0.069974</td>\n",
       "      <td>0.260270</td>\n",
       "      <td>-0.023047</td>\n",
       "      <td>-0.046285</td>\n",
       "      <td>-0.025096</td>\n",
       "      <td>0.080154</td>\n",
       "      <td>0.000067</td>\n",
       "      <td>0.163041</td>\n",
       "      <td>0.040092</td>\n",
       "      <td>1.000000</td>\n",
       "      <td>0.207609</td>\n",
       "      <td>0.163903</td>\n",
       "      <td>0.113794</td>\n",
       "      <td>0.090651</td>\n",
       "      <td>0.043957</td>\n",
       "      <td>0.081624</td>\n",
       "    </tr>\n",
       "    <tr>\n",
       "      <th>sysBP</th>\n",
       "      <td>-0.035989</td>\n",
       "      <td>0.394302</td>\n",
       "      <td>-0.129428</td>\n",
       "      <td>-0.130230</td>\n",
       "      <td>-0.088275</td>\n",
       "      <td>0.255078</td>\n",
       "      <td>0.057009</td>\n",
       "      <td>0.696755</td>\n",
       "      <td>0.111283</td>\n",
       "      <td>0.207609</td>\n",
       "      <td>1.000000</td>\n",
       "      <td>0.784002</td>\n",
       "      <td>0.325953</td>\n",
       "      <td>0.182284</td>\n",
       "      <td>0.137185</td>\n",
       "      <td>0.216429</td>\n",
       "    </tr>\n",
       "    <tr>\n",
       "      <th>diaBP</th>\n",
       "      <td>0.057933</td>\n",
       "      <td>0.206104</td>\n",
       "      <td>-0.061637</td>\n",
       "      <td>-0.107746</td>\n",
       "      <td>-0.055851</td>\n",
       "      <td>0.194691</td>\n",
       "      <td>0.045190</td>\n",
       "      <td>0.615751</td>\n",
       "      <td>0.050329</td>\n",
       "      <td>0.163903</td>\n",
       "      <td>0.784002</td>\n",
       "      <td>1.000000</td>\n",
       "      <td>0.377415</td>\n",
       "      <td>0.181204</td>\n",
       "      <td>0.058923</td>\n",
       "      <td>0.145299</td>\n",
       "    </tr>\n",
       "    <tr>\n",
       "      <th>BMI</th>\n",
       "      <td>0.081360</td>\n",
       "      <td>0.136934</td>\n",
       "      <td>-0.136731</td>\n",
       "      <td>-0.167485</td>\n",
       "      <td>-0.092426</td>\n",
       "      <td>0.100357</td>\n",
       "      <td>0.029927</td>\n",
       "      <td>0.301521</td>\n",
       "      <td>0.086346</td>\n",
       "      <td>0.113794</td>\n",
       "      <td>0.325953</td>\n",
       "      <td>0.377415</td>\n",
       "      <td>1.000000</td>\n",
       "      <td>0.067509</td>\n",
       "      <td>0.079831</td>\n",
       "      <td>0.075947</td>\n",
       "    </tr>\n",
       "    <tr>\n",
       "      <th>heartRate</th>\n",
       "      <td>-0.116530</td>\n",
       "      <td>-0.012716</td>\n",
       "      <td>-0.052922</td>\n",
       "      <td>0.062409</td>\n",
       "      <td>0.075610</td>\n",
       "      <td>0.015555</td>\n",
       "      <td>-0.017680</td>\n",
       "      <td>0.147312</td>\n",
       "      <td>0.048983</td>\n",
       "      <td>0.090651</td>\n",
       "      <td>0.182284</td>\n",
       "      <td>0.181204</td>\n",
       "      <td>0.067509</td>\n",
       "      <td>1.000000</td>\n",
       "      <td>0.084837</td>\n",
       "      <td>0.023042</td>\n",
       "    </tr>\n",
       "    <tr>\n",
       "      <th>glucose</th>\n",
       "      <td>0.007070</td>\n",
       "      <td>0.115089</td>\n",
       "      <td>-0.033518</td>\n",
       "      <td>-0.052519</td>\n",
       "      <td>-0.053701</td>\n",
       "      <td>0.048369</td>\n",
       "      <td>0.018060</td>\n",
       "      <td>0.082281</td>\n",
       "      <td>0.625062</td>\n",
       "      <td>0.043957</td>\n",
       "      <td>0.137185</td>\n",
       "      <td>0.058923</td>\n",
       "      <td>0.079831</td>\n",
       "      <td>0.084837</td>\n",
       "      <td>1.000000</td>\n",
       "      <td>0.123751</td>\n",
       "    </tr>\n",
       "    <tr>\n",
       "      <th>TenYearCHD</th>\n",
       "      <td>0.088428</td>\n",
       "      <td>0.225256</td>\n",
       "      <td>-0.053798</td>\n",
       "      <td>0.019456</td>\n",
       "      <td>0.056411</td>\n",
       "      <td>0.087756</td>\n",
       "      <td>0.061810</td>\n",
       "      <td>0.177603</td>\n",
       "      <td>0.097317</td>\n",
       "      <td>0.081624</td>\n",
       "      <td>0.216429</td>\n",
       "      <td>0.145299</td>\n",
       "      <td>0.075947</td>\n",
       "      <td>0.023042</td>\n",
       "      <td>0.123751</td>\n",
       "      <td>1.000000</td>\n",
       "    </tr>\n",
       "  </tbody>\n",
       "</table>\n",
       "</div>"
      ],
      "text/plain": [
       "                     male       age  education  currentSmoker  cigsPerDay  \\\n",
       "male             1.000000 -0.028979   0.017374       0.197596    0.316723   \n",
       "age             -0.028979  1.000000  -0.168023      -0.213748   -0.192113   \n",
       "education        0.017374 -0.168023   1.000000       0.019839    0.009392   \n",
       "currentSmoker    0.197596 -0.213748   0.019839       1.000000    0.770799   \n",
       "cigsPerDay       0.316723 -0.192113   0.009392       0.770799    1.000000   \n",
       "BPMeds          -0.052461  0.123672  -0.011080      -0.049649   -0.047583   \n",
       "prevalentStroke -0.004546  0.057655  -0.035054      -0.032988   -0.033052   \n",
       "prevalentHyp     0.005313  0.307194  -0.081672      -0.103260   -0.066612   \n",
       "diabetes         0.015708  0.101258  -0.039031      -0.044295   -0.037859   \n",
       "totChol         -0.069974  0.260270  -0.023047      -0.046285   -0.025096   \n",
       "sysBP           -0.035989  0.394302  -0.129428      -0.130230   -0.088275   \n",
       "diaBP            0.057933  0.206104  -0.061637      -0.107746   -0.055851   \n",
       "BMI              0.081360  0.136934  -0.136731      -0.167485   -0.092426   \n",
       "heartRate       -0.116530 -0.012716  -0.052922       0.062409    0.075610   \n",
       "glucose          0.007070  0.115089  -0.033518      -0.052519   -0.053701   \n",
       "TenYearCHD       0.088428  0.225256  -0.053798       0.019456    0.056411   \n",
       "\n",
       "                   BPMeds  prevalentStroke  prevalentHyp  diabetes   totChol  \\\n",
       "male            -0.052461        -0.004546      0.005313  0.015708 -0.069974   \n",
       "age              0.123672         0.057655      0.307194  0.101258  0.260270   \n",
       "education       -0.011080        -0.035054     -0.081672 -0.039031 -0.023047   \n",
       "currentSmoker   -0.049649        -0.032988     -0.103260 -0.044295 -0.046285   \n",
       "cigsPerDay      -0.047583        -0.033052     -0.066612 -0.037859 -0.025096   \n",
       "BPMeds           1.000000         0.116096      0.263010  0.051746  0.080154   \n",
       "prevalentStroke  0.116096         1.000000      0.074830  0.006949  0.000067   \n",
       "prevalentHyp     0.263010         0.074830      1.000000  0.077808  0.163041   \n",
       "diabetes         0.051746         0.006949      0.077808  1.000000  0.040092   \n",
       "totChol          0.080154         0.000067      0.163041  0.040092  1.000000   \n",
       "sysBP            0.255078         0.057009      0.696755  0.111283  0.207609   \n",
       "diaBP            0.194691         0.045190      0.615751  0.050329  0.163903   \n",
       "BMI              0.100357         0.029927      0.301521  0.086346  0.113794   \n",
       "heartRate        0.015555        -0.017680      0.147312  0.048983  0.090651   \n",
       "glucose          0.048369         0.018060      0.082281  0.625062  0.043957   \n",
       "TenYearCHD       0.087756         0.061810      0.177603  0.097317  0.081624   \n",
       "\n",
       "                    sysBP     diaBP       BMI  heartRate   glucose  TenYearCHD  \n",
       "male            -0.035989  0.057933  0.081360  -0.116530  0.007070    0.088428  \n",
       "age              0.394302  0.206104  0.136934  -0.012716  0.115089    0.225256  \n",
       "education       -0.129428 -0.061637 -0.136731  -0.052922 -0.033518   -0.053798  \n",
       "currentSmoker   -0.130230 -0.107746 -0.167485   0.062409 -0.052519    0.019456  \n",
       "cigsPerDay      -0.088275 -0.055851 -0.092426   0.075610 -0.053701    0.056411  \n",
       "BPMeds           0.255078  0.194691  0.100357   0.015555  0.048369    0.087756  \n",
       "prevalentStroke  0.057009  0.045190  0.029927  -0.017680  0.018060    0.061810  \n",
       "prevalentHyp     0.696755  0.615751  0.301521   0.147312  0.082281    0.177603  \n",
       "diabetes         0.111283  0.050329  0.086346   0.048983  0.625062    0.097317  \n",
       "totChol          0.207609  0.163903  0.113794   0.090651  0.043957    0.081624  \n",
       "sysBP            1.000000  0.784002  0.325953   0.182284  0.137185    0.216429  \n",
       "diaBP            0.784002  1.000000  0.377415   0.181204  0.058923    0.145299  \n",
       "BMI              0.325953  0.377415  1.000000   0.067509  0.079831    0.075947  \n",
       "heartRate        0.182284  0.181204  0.067509   1.000000  0.084837    0.023042  \n",
       "glucose          0.137185  0.058923  0.079831   0.084837  1.000000    0.123751  \n",
       "TenYearCHD       0.216429  0.145299  0.075947   0.023042  0.123751    1.000000  "
      ]
     },
     "execution_count": 94,
     "metadata": {},
     "output_type": "execute_result"
    }
   ],
   "source": [
    "heart.corr()"
   ]
  },
  {
   "cell_type": "code",
   "execution_count": 95,
   "metadata": {},
   "outputs": [],
   "source": [
    "heart_fill = heart"
   ]
  },
  {
   "cell_type": "code",
   "execution_count": 96,
   "metadata": {},
   "outputs": [
    {
     "data": {
      "text/plain": [
       "array([[<AxesSubplot:title={'center':'male'}>,\n",
       "        <AxesSubplot:title={'center':'age'}>,\n",
       "        <AxesSubplot:title={'center':'education'}>,\n",
       "        <AxesSubplot:title={'center':'currentSmoker'}>],\n",
       "       [<AxesSubplot:title={'center':'cigsPerDay'}>,\n",
       "        <AxesSubplot:title={'center':'BPMeds'}>,\n",
       "        <AxesSubplot:title={'center':'prevalentStroke'}>,\n",
       "        <AxesSubplot:title={'center':'prevalentHyp'}>],\n",
       "       [<AxesSubplot:title={'center':'diabetes'}>,\n",
       "        <AxesSubplot:title={'center':'totChol'}>,\n",
       "        <AxesSubplot:title={'center':'sysBP'}>,\n",
       "        <AxesSubplot:title={'center':'diaBP'}>],\n",
       "       [<AxesSubplot:title={'center':'BMI'}>,\n",
       "        <AxesSubplot:title={'center':'heartRate'}>,\n",
       "        <AxesSubplot:title={'center':'glucose'}>,\n",
       "        <AxesSubplot:title={'center':'TenYearCHD'}>]], dtype=object)"
      ]
     },
     "execution_count": 96,
     "metadata": {},
     "output_type": "execute_result"
    },
    {
     "data": {
      "image/png": "[encoded data removed]",
      "text/plain": [
       "<Figure size 1080x1080 with 16 Axes>"
      ]
     },
     "metadata": {},
     "output_type": "display_data"
    }
   ],
   "source": [
    " heart_fill.hist(bins='auto', figsize=(15,15))"
   ]
  },
  {
   "cell_type": "code",
   "execution_count": 97,
   "metadata": {},
   "outputs": [
    {
     "data": {
      "text/plain": [
       "<AxesSubplot:>"
      ]
     },
     "execution_count": 97,
     "metadata": {},
     "output_type": "execute_result"
    },
    {
     "data": {
      "image/png": "[encoded data removed]",
      "text/plain": [
       "<Figure size 432x288 with 1 Axes>"
      ]
     },
     "metadata": {},
     "output_type": "display_data"
    }
   ],
   "source": [
    "heart_fill['TenYearCHD'].value_counts().plot(x =heart_fill['TenYearCHD'], kind='bar')"
   ]
  },
  {
   "cell_type": "code",
   "execution_count": 98,
   "metadata": {},
   "outputs": [
    {
     "data": {
      "text/plain": [
       "0    84.804153\n",
       "1    15.195847\n",
       "Name: TenYearCHD, dtype: float64"
      ]
     },
     "execution_count": 98,
     "metadata": {},
     "output_type": "execute_result"
    }
   ],
   "source": [
    "heart_fill['TenYearCHD'].value_counts(normalize=True) * 100"
   ]
  },
  {
   "cell_type": "code",
   "execution_count": 99,
   "metadata": {},
   "outputs": [
    {
     "data": {
      "text/plain": [
       "<AxesSubplot:xlabel='gender', ylabel='count'>"
      ]
     },
     "execution_count": 99,
     "metadata": {},
     "output_type": "execute_result"
    },
    {
     "data": {
      "image/png": "[encoded data removed]",
      "text/plain": [
       "<Figure size 432x288 with 1 Axes>"
      ]
     },
     "metadata": {},
     "output_type": "display_data"
    }
   ],
   "source": [
    "heart_fill_plot = heart_fill.copy()\n",
    "heart_fill_plot['male']  = heart_fill_plot['male'].replace({0: 'female', 1:'male'})\n",
    "heart_fill_plot = heart_fill_plot.rename(columns={'male':'gender'})\n",
    "sns.countplot(data=heart_fill_plot, x='gender', hue='TenYearCHD')"
   ]
  },
  {
   "cell_type": "code",
   "execution_count": 100,
   "metadata": {},
   "outputs": [
    {
     "data": {
      "text/plain": [
       "1    53.26087\n",
       "0    46.73913\n",
       "Name: male, dtype: float64"
      ]
     },
     "execution_count": 100,
     "metadata": {},
     "output_type": "execute_result"
    }
   ],
   "source": [
    "heart_fill[heart_fill['TenYearCHD']==1]['male'].value_counts(normalize = True) * 100"
   ]
  },
  {
   "cell_type": "code",
   "execution_count": 101,
   "metadata": {},
   "outputs": [
    {
     "data": {
      "text/plain": [
       "0    58.931553\n",
       "1    41.068447\n",
       "Name: male, dtype: float64"
      ]
     },
     "execution_count": 101,
     "metadata": {},
     "output_type": "execute_result"
    }
   ],
   "source": [
    "heart_fill[heart_fill['TenYearCHD']==0]['male'].value_counts(normalize = True) * 100"
   ]
  },
  {
   "cell_type": "code",
   "execution_count": 102,
   "metadata": {},
   "outputs": [
    {
     "data": {
      "text/plain": [
       "<AxesSubplot:xlabel='diabetes', ylabel='count'>"
      ]
     },
     "execution_count": 102,
     "metadata": {},
     "output_type": "execute_result"
    },
    {
     "data": {
      "image/png": "[encoded data removed]",
      "text/plain": [
       "<Figure size 432x288 with 1 Axes>"
      ]
     },
     "metadata": {},
     "output_type": "display_data"
    }
   ],
   "source": [
    "heart_fill_plot['diabetes']  = heart_fill_plot['diabetes'].replace({0: 'no', 1:'yes'})\n",
    "sns.countplot(data=heart_fill_plot, x='diabetes', hue='TenYearCHD')"
   ]
  },
  {
   "cell_type": "code",
   "execution_count": 103,
   "metadata": {},
   "outputs": [
    {
     "data": {
      "text/plain": [
       "0    63.302752\n",
       "1    36.697248\n",
       "Name: TenYearCHD, dtype: float64"
      ]
     },
     "execution_count": 103,
     "metadata": {},
     "output_type": "execute_result"
    }
   ],
   "source": [
    "heart_fill[heart_fill['diabetes']==1]['TenYearCHD'].value_counts(normalize = True) * 100"
   ]
  },
  {
   "cell_type": "code",
   "execution_count": 104,
   "metadata": {},
   "outputs": [
    {
     "data": {
      "text/plain": [
       "0    85.371761\n",
       "1    14.628239\n",
       "Name: TenYearCHD, dtype: float64"
      ]
     },
     "execution_count": 104,
     "metadata": {},
     "output_type": "execute_result"
    }
   ],
   "source": [
    "heart_fill[heart_fill['diabetes']==0]['TenYearCHD'].value_counts(normalize = True) * 100"
   ]
  },
  {
   "cell_type": "code",
   "execution_count": 105,
   "metadata": {},
   "outputs": [
    {
     "data": {
      "text/plain": [
       "<AxesSubplot:xlabel='currentSmoker', ylabel='count'>"
      ]
     },
     "execution_count": 105,
     "metadata": {},
     "output_type": "execute_result"
    },
    {
     "data": {
      "image/png": "[encoded data removed]",
      "text/plain": [
       "<Figure size 432x288 with 1 Axes>"
      ]
     },
     "metadata": {},
     "output_type": "display_data"
    }
   ],
   "source": [
    "heart_fill_plot['currentSmoker']  = heart_fill_plot['currentSmoker'].replace({0: 'no', 1:'yes'})\n",
    "sns.countplot(data=heart_fill_plot, x='currentSmoker', hue='TenYearCHD')"
   ]
  },
  {
   "cell_type": "code",
   "execution_count": 106,
   "metadata": {},
   "outputs": [
    {
     "data": {
      "text/plain": [
       "40    191\n",
       "46    182\n",
       "42    180\n",
       "41    174\n",
       "48    173\n",
       "39    169\n",
       "44    166\n",
       "45    162\n",
       "43    159\n",
       "52    149\n",
       "51    146\n",
       "55    145\n",
       "38    144\n",
       "47    141\n",
       "50    140\n",
       "53    139\n",
       "54    132\n",
       "49    132\n",
       "57    123\n",
       "56    123\n",
       "59    119\n",
       "58    117\n",
       "60    111\n",
       "61    110\n",
       "63    110\n",
       "62     99\n",
       "64     93\n",
       "37     92\n",
       "36     84\n",
       "65     57\n",
       "67     45\n",
       "35     42\n",
       "66     38\n",
       "68     18\n",
       "34     18\n",
       "69      7\n",
       "33      5\n",
       "70      2\n",
       "32      1\n",
       "Name: age, dtype: int64"
      ]
     },
     "execution_count": 106,
     "metadata": {},
     "output_type": "execute_result"
    }
   ],
   "source": [
    "heart_fill['age'].value_counts()"
   ]
  },
  {
   "cell_type": "code",
   "execution_count": null,
   "metadata": {},
   "outputs": [],
   "source": []
  },
  {
   "cell_type": "code",
   "execution_count": null,
   "metadata": {},
   "outputs": [],
   "source": []
  },
  {
   "cell_type": "code",
   "execution_count": 125,
   "metadata": {},
   "outputs": [],
   "source": [
    "def predict_80_20(df, target):\n",
    "    split = StratifiedShuffleSplit(n_splits = 1, test_size=0.02, random_state=420)\n",
    "    for train_index, test_index in split.split(df, df[target]):\n",
    "        train = df.loc[train_index]\n",
    "        test = df.loc[test_index]\n",
    "        \n",
    "        x = train.drop([target], axis=1)\n",
    "        y = train[target]\n",
    "        \n",
    "        a = test.drop([target], axis=1)\n",
    "        b = test[target]\n",
    "        \n",
    "        lr.fit(x,y)\n",
    "        \n",
    "        predicted = lr.predict(a)\n",
    "        accuracy = accuracy_score(b, predicted)\n",
    "        c_m = confusion_matrix(b, predicted)\n",
    "        \n",
    "        return print('Accuracy score: ', accuracy, '\\n', 'Confusion matrix: ', c_m)"
   ]
  },
  {
   "cell_type": "code",
   "execution_count": 126,
   "metadata": {},
   "outputs": [
    {
     "name": "stdout",
     "output_type": "stream",
     "text": [
      "Accuracy score:  0.8470588235294118 \n",
      " Confusion matrix:  [[72  0]\n",
      " [13  0]]\n"
     ]
    },
    {
     "name": "stderr",
     "output_type": "stream",
     "text": [
      "C:\\Users\\ADMIN\\anaconda\\lib\\site-packages\\sklearn\\linear_model\\_logistic.py:762: ConvergenceWarning: lbfgs failed to converge (status=1):\n",
      "STOP: TOTAL NO. of ITERATIONS REACHED LIMIT.\n",
      "\n",
      "Increase the number of iterations (max_iter) or scale the data as shown in:\n",
      "    https://scikit-learn.org/stable/modules/preprocessing.html\n",
      "Please also refer to the documentation for alternative solver options:\n",
      "    https://scikit-learn.org/stable/modules/linear_model.html#logistic-regression\n",
      "  n_iter_i = _check_optimize_result(\n"
     ]
    }
   ],
   "source": [
    "predict_80_20(heart_fill, 'TenYearCHD')\n"
   ]
  },
  {
   "cell_type": "code",
   "execution_count": 127,
   "metadata": {},
   "outputs": [],
   "source": [
    "heart_fill_ed = heart_fill.drop(['education'], axis = 1)\n"
   ]
  },
  {
   "cell_type": "code",
   "execution_count": 128,
   "metadata": {},
   "outputs": [
    {
     "name": "stdout",
     "output_type": "stream",
     "text": [
      "Accuracy score:  0.8470588235294118 \n",
      " Confusion matrix:  [[72  0]\n",
      " [13  0]]\n"
     ]
    },
    {
     "name": "stderr",
     "output_type": "stream",
     "text": [
      "C:\\Users\\ADMIN\\anaconda\\lib\\site-packages\\sklearn\\linear_model\\_logistic.py:762: ConvergenceWarning: lbfgs failed to converge (status=1):\n",
      "STOP: TOTAL NO. of ITERATIONS REACHED LIMIT.\n",
      "\n",
      "Increase the number of iterations (max_iter) or scale the data as shown in:\n",
      "    https://scikit-learn.org/stable/modules/preprocessing.html\n",
      "Please also refer to the documentation for alternative solver options:\n",
      "    https://scikit-learn.org/stable/modules/linear_model.html#logistic-regression\n",
      "  n_iter_i = _check_optimize_result(\n"
     ]
    }
   ],
   "source": [
    "predict_80_20(heart_fill, 'TenYearCHD')\n"
   ]
  },
  {
   "cell_type": "code",
   "execution_count": null,
   "metadata": {},
   "outputs": [],
   "source": []
  },
  {
   "cell_type": "code",
   "execution_count": null,
   "metadata": {},
   "outputs": [],
   "source": []
  },
  {
   "cell_type": "code",
   "execution_count": null,
   "metadata": {},
   "outputs": [],
   "source": []
  }
 ],
 "metadata": {
  "kernelspec": {
   "display_name": "Python 3",
   "language": "python",
   "name": "python3"
  },
  "language_info": {
   "codemirror_mode": {
    "name": "ipython",
    "version": 3
   },
   "file_extension": ".py",
   "mimetype": "text/x-python",
   "name": "python",
   "nbconvert_exporter": "python",
   "pygments_lexer": "ipython3",
   "version": "3.8.5"
  }
 },
 "nbformat": 4,
 "nbformat_minor": 4
}
